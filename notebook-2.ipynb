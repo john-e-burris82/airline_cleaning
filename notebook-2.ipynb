{
 "cells": [
  {
   "cell_type": "markdown",
   "id": "prostate-arizona",
   "metadata": {
    "id": "bA5ajAmk7XH6"
   },
   "source": [
    "# Airport Data Cleaning\n",
    "\n",
    "In this data cleaning story, we will work with an airport dataset. It has 2,477 rows of data and 12 variables. We will clear some whitespace, try to fix date variable, play around with some categorical variables (changing case to upper, change the strings to categories, check for inconsistent values, and conduct a value count), check for duplicates, and finally tackle some outliers. So, let's get to it."
   ]
  },
  {
   "cell_type": "code",
   "execution_count": null,
   "id": "2e25fdd8-4d84-45bc-80f0-949917e00a17",
   "metadata": {},
   "outputs": [],
   "source": [
    "# Importing packages\n",
    "import pandas as pd\n",
    "import numpy as np\n",
    "import datetime as dt\n",
    "import matplotlib.pyplot as plt\n",
    "\n",
    "\n",
    "# Importing as DataFrames\n",
    "airlines = pd.read_csv('datasets/airlines_final.csv',  index_col = 'Unnamed: 0')"
   ]
  },
  {
   "cell_type": "code",
   "execution_count": null,
   "id": "079c7628-464c-471b-9867-b684acc232b9",
   "metadata": {},
   "outputs": [
    {
     "name": "stdout",
     "output_type": "stream",
     "text": [
      "<class 'pandas.core.frame.DataFrame'>\n",
      "Int64Index: 2477 entries, 0 to 2808\n",
      "Data columns (total 12 columns):\n",
      " #   Column         Non-Null Count  Dtype  \n",
      "---  ------         --------------  -----  \n",
      " 0   id             2477 non-null   int64  \n",
      " 1   day            2477 non-null   object \n",
      " 2   airline        2477 non-null   object \n",
      " 3   destination    2477 non-null   object \n",
      " 4   dest_region    2477 non-null   object \n",
      " 5   dest_size      2477 non-null   object \n",
      " 6   boarding_area  2477 non-null   object \n",
      " 7   dept_time      2477 non-null   object \n",
      " 8   wait_min       2477 non-null   float64\n",
      " 9   cleanliness    2477 non-null   object \n",
      " 10  safety         2477 non-null   object \n",
      " 11  satisfaction   2477 non-null   object \n",
      "dtypes: float64(1), int64(1), object(10)\n",
      "memory usage: 251.6+ KB\n"
     ]
    }
   ],
   "source": [
    "# Airlines Data Types and Count of Non-Null Values\n",
    "\n",
    "airlines.info()\n",
    "\n",
    "# Another option to begin exploring the data, uncomment it to check it out\n",
    "\n",
    "# airlines.dtypes"
   ]
  },
  {
   "cell_type": "markdown",
   "id": "1aedb165-0784-49c3-9c12-4d899e945324",
   "metadata": {},
   "source": [
    "## Summary of airlines.dtypes\n",
    "\n",
    "From the initial view, we have a dataframe consisting of 12 variables and 2,477 rows of data. Out of the gate, something fishy is going on with the row indexs. They seem to be labeled 0 - 2,808. That doesn't make much sense to me as there are only 2,477 row entries. Looking at the variables, the variable 'day' may need to be changed to date. This all depends on how we want to utilize the variable. Variable 'dest_size' may need to be categorized and factored. Variable 'dept_time' looks like it will need some work. Variables 'cleanliness', 'safety', and 'satisfaction' all appear to be category variables. This can be confirmed by looking at an extended .head(15). "
   ]
  },
  {
   "cell_type": "code",
   "execution_count": null,
   "id": "952e75f3-4979-495b-b7ef-1e77200577e6",
   "metadata": {},
   "outputs": [
    {
     "data": {
      "application/com.datacamp.data-table.v1+json": {
       "is_truncated": false,
       "table": {
        "data": [
         {
          "airline": "UNITED INTL",
          "boarding_area": "Gates 91-102",
          "cleanliness": "Clean",
          "day": "Tuesday",
          "dept_time": "2018-12-31",
          "dest_region": "Asia",
          "dest_size": "Hub",
          "destination": "KANSAI",
          "id": 1351,
          "index": 0,
          "safety": "Neutral",
          "satisfaction": "Very satisfied",
          "wait_min": 115
         },
         {
          "airline": "ALASKA",
          "boarding_area": "Gates 50-59",
          "cleanliness": "Clean",
          "day": "Friday",
          "dept_time": "2018-12-31",
          "dest_region": "Canada/Mexico",
          "dest_size": "Small",
          "destination": "SAN JOSE DEL CABO",
          "id": 373,
          "index": 1,
          "safety": "Very safe",
          "satisfaction": "Very satisfied",
          "wait_min": 135
         },
         {
          "airline": "DELTA",
          "boarding_area": "Gates 40-48",
          "cleanliness": "Average",
          "day": "Thursday",
          "dept_time": "2018-12-31",
          "dest_region": "West US",
          "dest_size": "Hub",
          "destination": "LOS ANGELES",
          "id": 2820,
          "index": 2,
          "safety": "Somewhat safe",
          "satisfaction": "Neutral",
          "wait_min": 70
         },
         {
          "airline": "SOUTHWEST",
          "boarding_area": "Gates 20-39",
          "cleanliness": "Clean",
          "day": "Tuesday",
          "dept_time": "2018-12-31",
          "dest_region": "West US",
          "dest_size": "Hub",
          "destination": "LOS ANGELES",
          "id": 1157,
          "index": 3,
          "safety": "Very safe",
          "satisfaction": "Somewhat satsified",
          "wait_min": 190
         },
         {
          "airline": "AMERICAN",
          "boarding_area": "Gates 50-59",
          "cleanliness": "Somewhat clean",
          "day": "Wednesday",
          "dept_time": "2018-12-31",
          "dest_region": "East US",
          "dest_size": "Hub",
          "destination": "MIAMI",
          "id": 2992,
          "index": 4,
          "safety": "Very safe",
          "satisfaction": "Somewhat satsified",
          "wait_min": 559
         },
         {
          "airline": "ALASKA",
          "boarding_area": "Gates 50-59",
          "cleanliness": "Somewhat clean",
          "day": "Thursday",
          "dept_time": "2018-12-31",
          "dest_region": "East US",
          "dest_size": "Hub",
          "destination": "NEWARK",
          "id": 634,
          "index": 5,
          "safety": "Very safe",
          "satisfaction": "Very satisfied",
          "wait_min": 140
         },
         {
          "airline": "JETBLUE",
          "boarding_area": "Gates 1-12",
          "cleanliness": "Clean",
          "day": "Saturday",
          "dept_time": "2018-12-31",
          "dest_region": "West US",
          "dest_size": "Small",
          "destination": "LONG BEACH",
          "id": 2578,
          "index": 6,
          "safety": "Very safe",
          "satisfaction": "Somewhat satsified",
          "wait_min": 63
         },
         {
          "airline": "AEROMEXICO",
          "boarding_area": "Gates 1-12",
          "cleanliness": "Somewhat clean",
          "day": "Saturday",
          "dept_time": "2018-12-31",
          "dest_region": "Canada/Mexico",
          "dest_size": "    Hub",
          "destination": "MEXICO CITY",
          "id": 2592,
          "index": 8,
          "safety": "Very safe",
          "satisfaction": "Neutral",
          "wait_min": 215
         },
         {
          "airline": "AIR CANADA",
          "boarding_area": "Gates 91-102",
          "cleanliness": "Somewhat clean",
          "day": "Friday",
          "dept_time": "2018-12-31",
          "dest_region": "Canada/Mexico",
          "dest_size": "Hub",
          "destination": "TORONTO",
          "id": 919,
          "index": 9,
          "safety": "Somewhat safe",
          "satisfaction": "Somewhat satsified",
          "wait_min": 70
         },
         {
          "airline": "UNITED",
          "boarding_area": "Gates 70-90",
          "cleanliness": "Average",
          "day": "Tuesday",
          "dept_time": "2018-12-31",
          "dest_region": "West US",
          "dest_size": "Medium",
          "destination": "PORTLAND",
          "id": 3028,
          "index": 10,
          "safety": "Very safe",
          "satisfaction": "Neutral",
          "wait_min": 180
         },
         {
          "airline": "SOUTHWEST",
          "boarding_area": "Gates 20-39",
          "cleanliness": "Clean",
          "day": "Tuesday",
          "dept_time": "2018-12-31",
          "dest_region": "West US",
          "dest_size": "Medium",
          "destination": "SAN DIEGO",
          "id": 1129,
          "index": 11,
          "safety": "Very safe",
          "satisfaction": "Somewhat satsified",
          "wait_min": 540
         },
         {
          "airline": "JETBLUE",
          "boarding_area": "Gates 1-12",
          "cleanliness": "Somewhat clean",
          "day": "Saturday",
          "dept_time": "2018-12-31",
          "dest_region": "East US",
          "dest_size": "Large",
          "destination": "BOSTON",
          "id": 2648,
          "index": 12,
          "safety": "Very safe",
          "satisfaction": "Somewhat satsified",
          "wait_min": 192
         },
         {
          "airline": "UNITED",
          "boarding_area": "Gates 70-90",
          "cleanliness": "Clean",
          "day": "Tuesday",
          "dept_time": "2018-12-31",
          "dest_region": "West US",
          "dest_size": "Small",
          "destination": "SPOKANE",
          "id": 3104,
          "index": 13,
          "safety": "Very safe",
          "satisfaction": "Somewhat satsified",
          "wait_min": 107
         },
         {
          "airline": "INTERJET",
          "boarding_area": "Gates 1-12",
          "cleanliness": "Somewhat clean",
          "day": "Saturday",
          "dept_time": "2018-12-31",
          "dest_region": "Canada/Mexico",
          "dest_size": "Medium",
          "destination": "GUADALAJARA",
          "id": 2589,
          "index": 14,
          "safety": "Somewhat safe",
          "satisfaction": "Somewhat satsified",
          "wait_min": 155
         },
         {
          "airline": "DELTA",
          "boarding_area": "Gates 40-48",
          "cleanliness": "Somewhat clean",
          "day": "Tuesday",
          "dept_time": "2018-12-31",
          "dest_region": "Midwest US",
          "dest_size": "Hub",
          "destination": "MINNEAPOLIS-ST. PAUL",
          "id": 2345,
          "index": 15,
          "safety": "Somewhat safe",
          "satisfaction": "Somewhat satsified",
          "wait_min": 155
         },
         {
          "airline": "ALASKA",
          "boarding_area": "Gates 50-59",
          "cleanliness": "Somewhat clean",
          "day": "Friday",
          "dept_time": "2018-12-31",
          "dest_region": "West US",
          "dest_size": "Hub",
          "destination": "LOS ANGELES",
          "id": 390,
          "index": 16,
          "safety": "Neutral",
          "satisfaction": "Somewhat satsified",
          "wait_min": 175
         },
         {
          "airline": "ALASKA",
          "boarding_area": "Gates 50-59",
          "cleanliness": "Clean",
          "day": "Tuesday",
          "dept_time": "2018-12-31",
          "dest_region": "EAST US",
          "dest_size": "    Hub",
          "destination": "NEW YORK-JFK",
          "id": 954,
          "index": 17,
          "safety": "Very safe",
          "satisfaction": "Very satisfied",
          "wait_min": 100
         },
         {
          "airline": "TURKISH AIRLINES",
          "boarding_area": "Gates 91-102",
          "cleanliness": "Clean",
          "day": "Friday",
          "dept_time": "2018-12-31",
          "dest_region": "Middle East",
          "dest_size": "Hub",
          "destination": "ISTANBUL",
          "id": 2913,
          "index": 18,
          "safety": "Very safe",
          "satisfaction": "Somewhat satsified",
          "wait_min": 225
         },
         {
          "airline": "ALASKA",
          "boarding_area": "Gates 50-59",
          "cleanliness": "Clean",
          "day": "Sunday",
          "dept_time": "2018-12-31",
          "dest_region": "East US",
          "dest_size": "Medium",
          "destination": "BALTIMORE",
          "id": 803,
          "index": 19,
          "safety": "Very safe",
          "satisfaction": "Very satisfied",
          "wait_min": 155
         },
         {
          "airline": "AIR CANADA",
          "boarding_area": "Gates 91-102",
          "cleanliness": "Average",
          "day": "Thursday",
          "dept_time": "2018-12-31",
          "dest_region": "Canada/Mexico",
          "dest_size": "Hub",
          "destination": "TORONTO",
          "id": 767,
          "index": 20,
          "safety": "Neutral",
          "satisfaction": "Somewhat satsified",
          "wait_min": 115
         },
         {
          "airline": "SOUTHWEST",
          "boarding_area": "Gates 20-39",
          "cleanliness": "Average",
          "day": "Tuesday",
          "dept_time": "2018-12-31",
          "dest_region": "West US",
          "dest_size": "Hub",
          "destination": "LAS VEGAS",
          "id": 1214,
          "index": 21,
          "safety": "Somewhat safe",
          "satisfaction": "Somewhat satsified",
          "wait_min": 60
         },
         {
          "airline": "UNITED INTL",
          "boarding_area": "Gates 91-102",
          "cleanliness": "Clean",
          "day": "Tuesday",
          "dept_time": "2018-12-31",
          "dest_region": "Asia",
          "dest_size": "Hub     ",
          "destination": "SHANGHAI",
          "id": 1373,
          "index": 22,
          "safety": "Very safe",
          "satisfaction": "Somewhat satsified",
          "wait_min": 145
         },
         {
          "airline": "UNITED INTL",
          "boarding_area": "Gates 91-102",
          "cleanliness": "Average",
          "day": "Thursday",
          "dept_time": "2018-12-31",
          "dest_region": "Asia",
          "dest_size": "Hub",
          "destination": "TOKYO-NARITA",
          "id": 1263,
          "index": 23,
          "safety": "Neutral",
          "satisfaction": "Neutral",
          "wait_min": 210
         },
         {
          "airline": "AIR FRANCE/KLM",
          "boarding_area": "Gates 1-12",
          "cleanliness": "Somewhat clean",
          "day": "Wednesday",
          "dept_time": "2018-12-31",
          "dest_region": "Europe",
          "dest_size": "Hub",
          "destination": "PARIS-DE GAULLE",
          "id": 2723,
          "index": 24,
          "safety": "Very safe",
          "satisfaction": "Somewhat satsified",
          "wait_min": 160
         },
         {
          "airline": "UNITED",
          "boarding_area": "Gates 70-90",
          "cleanliness": "Clean",
          "day": "Tuesday",
          "dept_time": "2018-12-31",
          "dest_region": "West US",
          "dest_size": "    Small",
          "destination": "SPOKANE",
          "id": 3097,
          "index": 25,
          "safety": "Very safe",
          "satisfaction": "Very satisfied",
          "wait_min": 604
         }
        ],
        "schema": {
         "fields": [
          {
           "name": "index",
           "type": "integer"
          },
          {
           "name": "id",
           "type": "integer"
          },
          {
           "name": "day",
           "type": "string"
          },
          {
           "name": "airline",
           "type": "string"
          },
          {
           "name": "destination",
           "type": "string"
          },
          {
           "name": "dest_region",
           "type": "string"
          },
          {
           "name": "dest_size",
           "type": "string"
          },
          {
           "name": "boarding_area",
           "type": "string"
          },
          {
           "name": "dept_time",
           "type": "string"
          },
          {
           "name": "wait_min",
           "type": "number"
          },
          {
           "name": "cleanliness",
           "type": "string"
          },
          {
           "name": "safety",
           "type": "string"
          },
          {
           "name": "satisfaction",
           "type": "string"
          }
         ],
         "pandas_version": "0.20.0",
         "primaryKey": [
          "index"
         ]
        }
       },
       "total_rows": 25
      },
      "text/html": [
       "<div>\n",
       "<style scoped>\n",
       "    .dataframe tbody tr th:only-of-type {\n",
       "        vertical-align: middle;\n",
       "    }\n",
       "\n",
       "    .dataframe tbody tr th {\n",
       "        vertical-align: top;\n",
       "    }\n",
       "\n",
       "    .dataframe thead th {\n",
       "        text-align: right;\n",
       "    }\n",
       "</style>\n",
       "<table border=\"1\" class=\"dataframe\">\n",
       "  <thead>\n",
       "    <tr style=\"text-align: right;\">\n",
       "      <th></th>\n",
       "      <th>id</th>\n",
       "      <th>day</th>\n",
       "      <th>airline</th>\n",
       "      <th>destination</th>\n",
       "      <th>dest_region</th>\n",
       "      <th>dest_size</th>\n",
       "      <th>boarding_area</th>\n",
       "      <th>dept_time</th>\n",
       "      <th>wait_min</th>\n",
       "      <th>cleanliness</th>\n",
       "      <th>safety</th>\n",
       "      <th>satisfaction</th>\n",
       "    </tr>\n",
       "  </thead>\n",
       "  <tbody>\n",
       "    <tr>\n",
       "      <th>0</th>\n",
       "      <td>1351</td>\n",
       "      <td>Tuesday</td>\n",
       "      <td>UNITED INTL</td>\n",
       "      <td>KANSAI</td>\n",
       "      <td>Asia</td>\n",
       "      <td>Hub</td>\n",
       "      <td>Gates 91-102</td>\n",
       "      <td>2018-12-31</td>\n",
       "      <td>115.0</td>\n",
       "      <td>Clean</td>\n",
       "      <td>Neutral</td>\n",
       "      <td>Very satisfied</td>\n",
       "    </tr>\n",
       "    <tr>\n",
       "      <th>1</th>\n",
       "      <td>373</td>\n",
       "      <td>Friday</td>\n",
       "      <td>ALASKA</td>\n",
       "      <td>SAN JOSE DEL CABO</td>\n",
       "      <td>Canada/Mexico</td>\n",
       "      <td>Small</td>\n",
       "      <td>Gates 50-59</td>\n",
       "      <td>2018-12-31</td>\n",
       "      <td>135.0</td>\n",
       "      <td>Clean</td>\n",
       "      <td>Very safe</td>\n",
       "      <td>Very satisfied</td>\n",
       "    </tr>\n",
       "    <tr>\n",
       "      <th>2</th>\n",
       "      <td>2820</td>\n",
       "      <td>Thursday</td>\n",
       "      <td>DELTA</td>\n",
       "      <td>LOS ANGELES</td>\n",
       "      <td>West US</td>\n",
       "      <td>Hub</td>\n",
       "      <td>Gates 40-48</td>\n",
       "      <td>2018-12-31</td>\n",
       "      <td>70.0</td>\n",
       "      <td>Average</td>\n",
       "      <td>Somewhat safe</td>\n",
       "      <td>Neutral</td>\n",
       "    </tr>\n",
       "    <tr>\n",
       "      <th>3</th>\n",
       "      <td>1157</td>\n",
       "      <td>Tuesday</td>\n",
       "      <td>SOUTHWEST</td>\n",
       "      <td>LOS ANGELES</td>\n",
       "      <td>West US</td>\n",
       "      <td>Hub</td>\n",
       "      <td>Gates 20-39</td>\n",
       "      <td>2018-12-31</td>\n",
       "      <td>190.0</td>\n",
       "      <td>Clean</td>\n",
       "      <td>Very safe</td>\n",
       "      <td>Somewhat satsified</td>\n",
       "    </tr>\n",
       "    <tr>\n",
       "      <th>4</th>\n",
       "      <td>2992</td>\n",
       "      <td>Wednesday</td>\n",
       "      <td>AMERICAN</td>\n",
       "      <td>MIAMI</td>\n",
       "      <td>East US</td>\n",
       "      <td>Hub</td>\n",
       "      <td>Gates 50-59</td>\n",
       "      <td>2018-12-31</td>\n",
       "      <td>559.0</td>\n",
       "      <td>Somewhat clean</td>\n",
       "      <td>Very safe</td>\n",
       "      <td>Somewhat satsified</td>\n",
       "    </tr>\n",
       "    <tr>\n",
       "      <th>5</th>\n",
       "      <td>634</td>\n",
       "      <td>Thursday</td>\n",
       "      <td>ALASKA</td>\n",
       "      <td>NEWARK</td>\n",
       "      <td>East US</td>\n",
       "      <td>Hub</td>\n",
       "      <td>Gates 50-59</td>\n",
       "      <td>2018-12-31</td>\n",
       "      <td>140.0</td>\n",
       "      <td>Somewhat clean</td>\n",
       "      <td>Very safe</td>\n",
       "      <td>Very satisfied</td>\n",
       "    </tr>\n",
       "    <tr>\n",
       "      <th>6</th>\n",
       "      <td>2578</td>\n",
       "      <td>Saturday</td>\n",
       "      <td>JETBLUE</td>\n",
       "      <td>LONG BEACH</td>\n",
       "      <td>West US</td>\n",
       "      <td>Small</td>\n",
       "      <td>Gates 1-12</td>\n",
       "      <td>2018-12-31</td>\n",
       "      <td>63.0</td>\n",
       "      <td>Clean</td>\n",
       "      <td>Very safe</td>\n",
       "      <td>Somewhat satsified</td>\n",
       "    </tr>\n",
       "    <tr>\n",
       "      <th>8</th>\n",
       "      <td>2592</td>\n",
       "      <td>Saturday</td>\n",
       "      <td>AEROMEXICO</td>\n",
       "      <td>MEXICO CITY</td>\n",
       "      <td>Canada/Mexico</td>\n",
       "      <td>Hub</td>\n",
       "      <td>Gates 1-12</td>\n",
       "      <td>2018-12-31</td>\n",
       "      <td>215.0</td>\n",
       "      <td>Somewhat clean</td>\n",
       "      <td>Very safe</td>\n",
       "      <td>Neutral</td>\n",
       "    </tr>\n",
       "    <tr>\n",
       "      <th>9</th>\n",
       "      <td>919</td>\n",
       "      <td>Friday</td>\n",
       "      <td>AIR CANADA</td>\n",
       "      <td>TORONTO</td>\n",
       "      <td>Canada/Mexico</td>\n",
       "      <td>Hub</td>\n",
       "      <td>Gates 91-102</td>\n",
       "      <td>2018-12-31</td>\n",
       "      <td>70.0</td>\n",
       "      <td>Somewhat clean</td>\n",
       "      <td>Somewhat safe</td>\n",
       "      <td>Somewhat satsified</td>\n",
       "    </tr>\n",
       "    <tr>\n",
       "      <th>10</th>\n",
       "      <td>3028</td>\n",
       "      <td>Tuesday</td>\n",
       "      <td>UNITED</td>\n",
       "      <td>PORTLAND</td>\n",
       "      <td>West US</td>\n",
       "      <td>Medium</td>\n",
       "      <td>Gates 70-90</td>\n",
       "      <td>2018-12-31</td>\n",
       "      <td>180.0</td>\n",
       "      <td>Average</td>\n",
       "      <td>Very safe</td>\n",
       "      <td>Neutral</td>\n",
       "    </tr>\n",
       "    <tr>\n",
       "      <th>11</th>\n",
       "      <td>1129</td>\n",
       "      <td>Tuesday</td>\n",
       "      <td>SOUTHWEST</td>\n",
       "      <td>SAN DIEGO</td>\n",
       "      <td>West US</td>\n",
       "      <td>Medium</td>\n",
       "      <td>Gates 20-39</td>\n",
       "      <td>2018-12-31</td>\n",
       "      <td>540.0</td>\n",
       "      <td>Clean</td>\n",
       "      <td>Very safe</td>\n",
       "      <td>Somewhat satsified</td>\n",
       "    </tr>\n",
       "    <tr>\n",
       "      <th>12</th>\n",
       "      <td>2648</td>\n",
       "      <td>Saturday</td>\n",
       "      <td>JETBLUE</td>\n",
       "      <td>BOSTON</td>\n",
       "      <td>East US</td>\n",
       "      <td>Large</td>\n",
       "      <td>Gates 1-12</td>\n",
       "      <td>2018-12-31</td>\n",
       "      <td>192.0</td>\n",
       "      <td>Somewhat clean</td>\n",
       "      <td>Very safe</td>\n",
       "      <td>Somewhat satsified</td>\n",
       "    </tr>\n",
       "    <tr>\n",
       "      <th>13</th>\n",
       "      <td>3104</td>\n",
       "      <td>Tuesday</td>\n",
       "      <td>UNITED</td>\n",
       "      <td>SPOKANE</td>\n",
       "      <td>West US</td>\n",
       "      <td>Small</td>\n",
       "      <td>Gates 70-90</td>\n",
       "      <td>2018-12-31</td>\n",
       "      <td>107.0</td>\n",
       "      <td>Clean</td>\n",
       "      <td>Very safe</td>\n",
       "      <td>Somewhat satsified</td>\n",
       "    </tr>\n",
       "    <tr>\n",
       "      <th>14</th>\n",
       "      <td>2589</td>\n",
       "      <td>Saturday</td>\n",
       "      <td>INTERJET</td>\n",
       "      <td>GUADALAJARA</td>\n",
       "      <td>Canada/Mexico</td>\n",
       "      <td>Medium</td>\n",
       "      <td>Gates 1-12</td>\n",
       "      <td>2018-12-31</td>\n",
       "      <td>155.0</td>\n",
       "      <td>Somewhat clean</td>\n",
       "      <td>Somewhat safe</td>\n",
       "      <td>Somewhat satsified</td>\n",
       "    </tr>\n",
       "    <tr>\n",
       "      <th>15</th>\n",
       "      <td>2345</td>\n",
       "      <td>Tuesday</td>\n",
       "      <td>DELTA</td>\n",
       "      <td>MINNEAPOLIS-ST. PAUL</td>\n",
       "      <td>Midwest US</td>\n",
       "      <td>Hub</td>\n",
       "      <td>Gates 40-48</td>\n",
       "      <td>2018-12-31</td>\n",
       "      <td>155.0</td>\n",
       "      <td>Somewhat clean</td>\n",
       "      <td>Somewhat safe</td>\n",
       "      <td>Somewhat satsified</td>\n",
       "    </tr>\n",
       "    <tr>\n",
       "      <th>16</th>\n",
       "      <td>390</td>\n",
       "      <td>Friday</td>\n",
       "      <td>ALASKA</td>\n",
       "      <td>LOS ANGELES</td>\n",
       "      <td>West US</td>\n",
       "      <td>Hub</td>\n",
       "      <td>Gates 50-59</td>\n",
       "      <td>2018-12-31</td>\n",
       "      <td>175.0</td>\n",
       "      <td>Somewhat clean</td>\n",
       "      <td>Neutral</td>\n",
       "      <td>Somewhat satsified</td>\n",
       "    </tr>\n",
       "    <tr>\n",
       "      <th>17</th>\n",
       "      <td>954</td>\n",
       "      <td>Tuesday</td>\n",
       "      <td>ALASKA</td>\n",
       "      <td>NEW YORK-JFK</td>\n",
       "      <td>EAST US</td>\n",
       "      <td>Hub</td>\n",
       "      <td>Gates 50-59</td>\n",
       "      <td>2018-12-31</td>\n",
       "      <td>100.0</td>\n",
       "      <td>Clean</td>\n",
       "      <td>Very safe</td>\n",
       "      <td>Very satisfied</td>\n",
       "    </tr>\n",
       "    <tr>\n",
       "      <th>18</th>\n",
       "      <td>2913</td>\n",
       "      <td>Friday</td>\n",
       "      <td>TURKISH AIRLINES</td>\n",
       "      <td>ISTANBUL</td>\n",
       "      <td>Middle East</td>\n",
       "      <td>Hub</td>\n",
       "      <td>Gates 91-102</td>\n",
       "      <td>2018-12-31</td>\n",
       "      <td>225.0</td>\n",
       "      <td>Clean</td>\n",
       "      <td>Very safe</td>\n",
       "      <td>Somewhat satsified</td>\n",
       "    </tr>\n",
       "    <tr>\n",
       "      <th>19</th>\n",
       "      <td>803</td>\n",
       "      <td>Sunday</td>\n",
       "      <td>ALASKA</td>\n",
       "      <td>BALTIMORE</td>\n",
       "      <td>East US</td>\n",
       "      <td>Medium</td>\n",
       "      <td>Gates 50-59</td>\n",
       "      <td>2018-12-31</td>\n",
       "      <td>155.0</td>\n",
       "      <td>Clean</td>\n",
       "      <td>Very safe</td>\n",
       "      <td>Very satisfied</td>\n",
       "    </tr>\n",
       "    <tr>\n",
       "      <th>20</th>\n",
       "      <td>767</td>\n",
       "      <td>Thursday</td>\n",
       "      <td>AIR CANADA</td>\n",
       "      <td>TORONTO</td>\n",
       "      <td>Canada/Mexico</td>\n",
       "      <td>Hub</td>\n",
       "      <td>Gates 91-102</td>\n",
       "      <td>2018-12-31</td>\n",
       "      <td>115.0</td>\n",
       "      <td>Average</td>\n",
       "      <td>Neutral</td>\n",
       "      <td>Somewhat satsified</td>\n",
       "    </tr>\n",
       "    <tr>\n",
       "      <th>21</th>\n",
       "      <td>1214</td>\n",
       "      <td>Tuesday</td>\n",
       "      <td>SOUTHWEST</td>\n",
       "      <td>LAS VEGAS</td>\n",
       "      <td>West US</td>\n",
       "      <td>Hub</td>\n",
       "      <td>Gates 20-39</td>\n",
       "      <td>2018-12-31</td>\n",
       "      <td>60.0</td>\n",
       "      <td>Average</td>\n",
       "      <td>Somewhat safe</td>\n",
       "      <td>Somewhat satsified</td>\n",
       "    </tr>\n",
       "    <tr>\n",
       "      <th>22</th>\n",
       "      <td>1373</td>\n",
       "      <td>Tuesday</td>\n",
       "      <td>UNITED INTL</td>\n",
       "      <td>SHANGHAI</td>\n",
       "      <td>Asia</td>\n",
       "      <td>Hub</td>\n",
       "      <td>Gates 91-102</td>\n",
       "      <td>2018-12-31</td>\n",
       "      <td>145.0</td>\n",
       "      <td>Clean</td>\n",
       "      <td>Very safe</td>\n",
       "      <td>Somewhat satsified</td>\n",
       "    </tr>\n",
       "    <tr>\n",
       "      <th>23</th>\n",
       "      <td>1263</td>\n",
       "      <td>Thursday</td>\n",
       "      <td>UNITED INTL</td>\n",
       "      <td>TOKYO-NARITA</td>\n",
       "      <td>Asia</td>\n",
       "      <td>Hub</td>\n",
       "      <td>Gates 91-102</td>\n",
       "      <td>2018-12-31</td>\n",
       "      <td>210.0</td>\n",
       "      <td>Average</td>\n",
       "      <td>Neutral</td>\n",
       "      <td>Neutral</td>\n",
       "    </tr>\n",
       "    <tr>\n",
       "      <th>24</th>\n",
       "      <td>2723</td>\n",
       "      <td>Wednesday</td>\n",
       "      <td>AIR FRANCE/KLM</td>\n",
       "      <td>PARIS-DE GAULLE</td>\n",
       "      <td>Europe</td>\n",
       "      <td>Hub</td>\n",
       "      <td>Gates 1-12</td>\n",
       "      <td>2018-12-31</td>\n",
       "      <td>160.0</td>\n",
       "      <td>Somewhat clean</td>\n",
       "      <td>Very safe</td>\n",
       "      <td>Somewhat satsified</td>\n",
       "    </tr>\n",
       "    <tr>\n",
       "      <th>25</th>\n",
       "      <td>3097</td>\n",
       "      <td>Tuesday</td>\n",
       "      <td>UNITED</td>\n",
       "      <td>SPOKANE</td>\n",
       "      <td>West US</td>\n",
       "      <td>Small</td>\n",
       "      <td>Gates 70-90</td>\n",
       "      <td>2018-12-31</td>\n",
       "      <td>604.0</td>\n",
       "      <td>Clean</td>\n",
       "      <td>Very safe</td>\n",
       "      <td>Very satisfied</td>\n",
       "    </tr>\n",
       "  </tbody>\n",
       "</table>\n",
       "</div>"
      ],
      "text/plain": [
       "      id        day           airline           destination    dest_region  \\\n",
       "0   1351    Tuesday       UNITED INTL                KANSAI           Asia   \n",
       "1    373     Friday            ALASKA     SAN JOSE DEL CABO  Canada/Mexico   \n",
       "2   2820   Thursday             DELTA           LOS ANGELES        West US   \n",
       "3   1157    Tuesday         SOUTHWEST           LOS ANGELES        West US   \n",
       "4   2992  Wednesday          AMERICAN                 MIAMI        East US   \n",
       "5    634   Thursday            ALASKA                NEWARK        East US   \n",
       "6   2578   Saturday           JETBLUE            LONG BEACH        West US   \n",
       "8   2592   Saturday        AEROMEXICO           MEXICO CITY  Canada/Mexico   \n",
       "9    919     Friday        AIR CANADA               TORONTO  Canada/Mexico   \n",
       "10  3028    Tuesday            UNITED              PORTLAND        West US   \n",
       "11  1129    Tuesday         SOUTHWEST             SAN DIEGO        West US   \n",
       "12  2648   Saturday           JETBLUE                BOSTON        East US   \n",
       "13  3104    Tuesday            UNITED               SPOKANE        West US   \n",
       "14  2589   Saturday          INTERJET           GUADALAJARA  Canada/Mexico   \n",
       "15  2345    Tuesday             DELTA  MINNEAPOLIS-ST. PAUL     Midwest US   \n",
       "16   390     Friday            ALASKA           LOS ANGELES        West US   \n",
       "17   954    Tuesday            ALASKA          NEW YORK-JFK        EAST US   \n",
       "18  2913     Friday  TURKISH AIRLINES              ISTANBUL    Middle East   \n",
       "19   803     Sunday            ALASKA             BALTIMORE        East US   \n",
       "20   767   Thursday        AIR CANADA               TORONTO  Canada/Mexico   \n",
       "21  1214    Tuesday         SOUTHWEST             LAS VEGAS        West US   \n",
       "22  1373    Tuesday       UNITED INTL              SHANGHAI           Asia   \n",
       "23  1263   Thursday       UNITED INTL          TOKYO-NARITA           Asia   \n",
       "24  2723  Wednesday    AIR FRANCE/KLM       PARIS-DE GAULLE         Europe   \n",
       "25  3097    Tuesday            UNITED               SPOKANE        West US   \n",
       "\n",
       "    dest_size boarding_area   dept_time  wait_min     cleanliness  \\\n",
       "0         Hub  Gates 91-102  2018-12-31     115.0           Clean   \n",
       "1       Small   Gates 50-59  2018-12-31     135.0           Clean   \n",
       "2         Hub   Gates 40-48  2018-12-31      70.0         Average   \n",
       "3         Hub   Gates 20-39  2018-12-31     190.0           Clean   \n",
       "4         Hub   Gates 50-59  2018-12-31     559.0  Somewhat clean   \n",
       "5         Hub   Gates 50-59  2018-12-31     140.0  Somewhat clean   \n",
       "6       Small    Gates 1-12  2018-12-31      63.0           Clean   \n",
       "8         Hub    Gates 1-12  2018-12-31     215.0  Somewhat clean   \n",
       "9         Hub  Gates 91-102  2018-12-31      70.0  Somewhat clean   \n",
       "10     Medium   Gates 70-90  2018-12-31     180.0         Average   \n",
       "11     Medium   Gates 20-39  2018-12-31     540.0           Clean   \n",
       "12      Large    Gates 1-12  2018-12-31     192.0  Somewhat clean   \n",
       "13      Small   Gates 70-90  2018-12-31     107.0           Clean   \n",
       "14     Medium    Gates 1-12  2018-12-31     155.0  Somewhat clean   \n",
       "15        Hub   Gates 40-48  2018-12-31     155.0  Somewhat clean   \n",
       "16        Hub   Gates 50-59  2018-12-31     175.0  Somewhat clean   \n",
       "17        Hub   Gates 50-59  2018-12-31     100.0           Clean   \n",
       "18        Hub  Gates 91-102  2018-12-31     225.0           Clean   \n",
       "19     Medium   Gates 50-59  2018-12-31     155.0           Clean   \n",
       "20        Hub  Gates 91-102  2018-12-31     115.0         Average   \n",
       "21        Hub   Gates 20-39  2018-12-31      60.0         Average   \n",
       "22   Hub       Gates 91-102  2018-12-31     145.0           Clean   \n",
       "23        Hub  Gates 91-102  2018-12-31     210.0         Average   \n",
       "24        Hub    Gates 1-12  2018-12-31     160.0  Somewhat clean   \n",
       "25      Small   Gates 70-90  2018-12-31     604.0           Clean   \n",
       "\n",
       "           safety        satisfaction  \n",
       "0         Neutral      Very satisfied  \n",
       "1       Very safe      Very satisfied  \n",
       "2   Somewhat safe             Neutral  \n",
       "3       Very safe  Somewhat satsified  \n",
       "4       Very safe  Somewhat satsified  \n",
       "5       Very safe      Very satisfied  \n",
       "6       Very safe  Somewhat satsified  \n",
       "8       Very safe             Neutral  \n",
       "9   Somewhat safe  Somewhat satsified  \n",
       "10      Very safe             Neutral  \n",
       "11      Very safe  Somewhat satsified  \n",
       "12      Very safe  Somewhat satsified  \n",
       "13      Very safe  Somewhat satsified  \n",
       "14  Somewhat safe  Somewhat satsified  \n",
       "15  Somewhat safe  Somewhat satsified  \n",
       "16        Neutral  Somewhat satsified  \n",
       "17      Very safe      Very satisfied  \n",
       "18      Very safe  Somewhat satsified  \n",
       "19      Very safe      Very satisfied  \n",
       "20        Neutral  Somewhat satsified  \n",
       "21  Somewhat safe  Somewhat satsified  \n",
       "22      Very safe  Somewhat satsified  \n",
       "23        Neutral             Neutral  \n",
       "24      Very safe  Somewhat satsified  \n",
       "25      Very safe      Very satisfied  "
      ]
     },
     "execution_count": 59,
     "metadata": {},
     "output_type": "execute_result"
    }
   ],
   "source": [
    "airlines.head(25)"
   ]
  },
  {
   "cell_type": "markdown",
   "id": "ad8749ff-1c12-486c-90fc-1fecb5a903d0",
   "metadata": {},
   "source": [
    "## Fishy Business\n",
    "\n",
    "Aside from the row index being a little fishy, the 'day' column has several different days listed; however, the 'dept_time' column all state 2018-12-31. From here, we will try to clean up the dataframe, check for duplicates, and try to reset the index. Following that, we will explore a few variables such as 'wait_min' as it looks to have some extreme outliers."
   ]
  },
  {
   "cell_type": "code",
   "execution_count": null,
   "id": "b675704c-207c-4df1-a50d-713b8aa7a7de",
   "metadata": {},
   "outputs": [
    {
     "name": "stdout",
     "output_type": "stream",
     "text": [
      "<class 'pandas.core.frame.DataFrame'>\n",
      "RangeIndex: 2477 entries, 0 to 2476\n",
      "Data columns (total 12 columns):\n",
      " #   Column         Non-Null Count  Dtype  \n",
      "---  ------         --------------  -----  \n",
      " 0   id             2477 non-null   int64  \n",
      " 1   day            2477 non-null   object \n",
      " 2   airline        2477 non-null   object \n",
      " 3   destination    2477 non-null   object \n",
      " 4   dest_region    2477 non-null   object \n",
      " 5   dest_size      2477 non-null   object \n",
      " 6   boarding_area  2477 non-null   object \n",
      " 7   dept_time      2477 non-null   object \n",
      " 8   wait_min       2477 non-null   float64\n",
      " 9   cleanliness    2477 non-null   object \n",
      " 10  safety         2477 non-null   object \n",
      " 11  satisfaction   2477 non-null   object \n",
      "dtypes: float64(1), int64(1), object(10)\n",
      "memory usage: 232.3+ KB\n"
     ]
    }
   ],
   "source": [
    "# Reseting the index\n",
    "airlines.reset_index(drop=True, inplace=True)\n",
    "airlines.info()\n",
    "# Great, it worked."
   ]
  },
  {
   "cell_type": "code",
   "execution_count": null,
   "id": "34667357-1091-45a9-9259-0a63e41ad678",
   "metadata": {},
   "outputs": [
    {
     "name": "stdout",
     "output_type": "stream",
     "text": [
      "<class 'pandas.core.frame.DataFrame'>\n",
      "RangeIndex: 2477 entries, 0 to 2476\n",
      "Data columns (total 12 columns):\n",
      " #   Column         Non-Null Count  Dtype  \n",
      "---  ------         --------------  -----  \n",
      " 0   id             2477 non-null   int64  \n",
      " 1   day            2477 non-null   object \n",
      " 2   airline        2477 non-null   object \n",
      " 3   destination    2477 non-null   object \n",
      " 4   dest_region    2477 non-null   object \n",
      " 5   dest_size      2477 non-null   object \n",
      " 6   boarding_area  2477 non-null   object \n",
      " 7   dept_time      2477 non-null   object \n",
      " 8   wait_min       2477 non-null   float64\n",
      " 9   cleanliness    2477 non-null   object \n",
      " 10  safety         2477 non-null   object \n",
      " 11  satisfaction   2477 non-null   object \n",
      "dtypes: float64(1), int64(1), object(10)\n",
      "memory usage: 232.3+ KB\n"
     ]
    }
   ],
   "source": [
    "# Let's clear some white space if any exists\n",
    "cols = airlines.select_dtypes('object').columns\n",
    "airlines[cols] = airlines[cols].apply(lambda x: x.str.strip())\n",
    "airlines.info()\n",
    "# Nothing appears to have changed, so if there was whitespace it is gone"
   ]
  },
  {
   "cell_type": "code",
   "execution_count": null,
   "id": "8f8aa784-1a34-40a5-ae8b-cfa05c61a296",
   "metadata": {},
   "outputs": [
    {
     "data": {
      "application/com.datacamp.data-table.v1+json": {
       "is_truncated": false,
       "table": {
        "data": [
         {
          "airline": "ALASKA",
          "boarding_area": "Gates 50-59",
          "cleanliness": "Somewhat clean",
          "day": "Tuesday",
          "dept_time": "2018-12-31T00:00:00.000Z",
          "dest_region": "East US",
          "dest_size": "Hub",
          "destination": "NEW YORK-JFK",
          "id": 1475,
          "index": 2472,
          "safety": "Neutral",
          "satisfaction": "Somewhat satsified",
          "wait_min": 280
         },
         {
          "airline": "SOUTHWEST",
          "boarding_area": "Gates 20-39",
          "cleanliness": "Clean",
          "day": "Thursday",
          "dept_time": "2018-12-31T00:00:00.000Z",
          "dest_region": "West US",
          "dest_size": "Hub",
          "destination": "PHOENIX",
          "id": 2222,
          "index": 2473,
          "safety": "Very safe",
          "satisfaction": "Very satisfied",
          "wait_min": 165
         },
         {
          "airline": "UNITED",
          "boarding_area": "Gates 70-90",
          "cleanliness": "Clean",
          "day": "Friday",
          "dept_time": "2018-12-31T00:00:00.000Z",
          "dest_region": "East US",
          "dest_size": "Hub",
          "destination": "ORLANDO",
          "id": 2684,
          "index": 2474,
          "safety": "Very safe",
          "satisfaction": "Very satisfied",
          "wait_min": 92
         },
         {
          "airline": "JETBLUE",
          "boarding_area": "Gates 1-12",
          "cleanliness": "Clean",
          "day": "Tuesday",
          "dept_time": "2018-12-31T00:00:00.000Z",
          "dest_region": "West US",
          "dest_size": "Small",
          "destination": "LONG BEACH",
          "id": 2549,
          "index": 2475,
          "safety": "Somewhat safe",
          "satisfaction": "Very satisfied",
          "wait_min": 95
         },
         {
          "airline": "CHINA EASTERN",
          "boarding_area": "Gates 1-12",
          "cleanliness": "Clean",
          "day": "Saturday",
          "dept_time": "2018-12-31T00:00:00.000Z",
          "dest_region": "Asia",
          "dest_size": "Large",
          "destination": "QINGDAO",
          "id": 2162,
          "index": 2476,
          "safety": "Very safe",
          "satisfaction": "Somewhat satsified",
          "wait_min": 220
         }
        ],
        "schema": {
         "fields": [
          {
           "name": "index",
           "type": "integer"
          },
          {
           "name": "id",
           "type": "integer"
          },
          {
           "name": "day",
           "type": "string"
          },
          {
           "name": "airline",
           "type": "string"
          },
          {
           "name": "destination",
           "type": "string"
          },
          {
           "name": "dest_region",
           "type": "string"
          },
          {
           "name": "dest_size",
           "type": "string"
          },
          {
           "name": "boarding_area",
           "type": "string"
          },
          {
           "name": "dept_time",
           "type": "string"
          },
          {
           "name": "wait_min",
           "type": "number"
          },
          {
           "name": "cleanliness",
           "type": "string"
          },
          {
           "name": "safety",
           "type": "string"
          },
          {
           "name": "satisfaction",
           "type": "string"
          }
         ],
         "pandas_version": "0.20.0",
         "primaryKey": [
          "index"
         ]
        }
       },
       "total_rows": 5
      },
      "text/html": [
       "<div>\n",
       "<style scoped>\n",
       "    .dataframe tbody tr th:only-of-type {\n",
       "        vertical-align: middle;\n",
       "    }\n",
       "\n",
       "    .dataframe tbody tr th {\n",
       "        vertical-align: top;\n",
       "    }\n",
       "\n",
       "    .dataframe thead th {\n",
       "        text-align: right;\n",
       "    }\n",
       "</style>\n",
       "<table border=\"1\" class=\"dataframe\">\n",
       "  <thead>\n",
       "    <tr style=\"text-align: right;\">\n",
       "      <th></th>\n",
       "      <th>id</th>\n",
       "      <th>day</th>\n",
       "      <th>airline</th>\n",
       "      <th>destination</th>\n",
       "      <th>dest_region</th>\n",
       "      <th>dest_size</th>\n",
       "      <th>boarding_area</th>\n",
       "      <th>dept_time</th>\n",
       "      <th>wait_min</th>\n",
       "      <th>cleanliness</th>\n",
       "      <th>safety</th>\n",
       "      <th>satisfaction</th>\n",
       "    </tr>\n",
       "  </thead>\n",
       "  <tbody>\n",
       "    <tr>\n",
       "      <th>2472</th>\n",
       "      <td>1475</td>\n",
       "      <td>Tuesday</td>\n",
       "      <td>ALASKA</td>\n",
       "      <td>NEW YORK-JFK</td>\n",
       "      <td>East US</td>\n",
       "      <td>Hub</td>\n",
       "      <td>Gates 50-59</td>\n",
       "      <td>2018-12-31</td>\n",
       "      <td>280.0</td>\n",
       "      <td>Somewhat clean</td>\n",
       "      <td>Neutral</td>\n",
       "      <td>Somewhat satsified</td>\n",
       "    </tr>\n",
       "    <tr>\n",
       "      <th>2473</th>\n",
       "      <td>2222</td>\n",
       "      <td>Thursday</td>\n",
       "      <td>SOUTHWEST</td>\n",
       "      <td>PHOENIX</td>\n",
       "      <td>West US</td>\n",
       "      <td>Hub</td>\n",
       "      <td>Gates 20-39</td>\n",
       "      <td>2018-12-31</td>\n",
       "      <td>165.0</td>\n",
       "      <td>Clean</td>\n",
       "      <td>Very safe</td>\n",
       "      <td>Very satisfied</td>\n",
       "    </tr>\n",
       "    <tr>\n",
       "      <th>2474</th>\n",
       "      <td>2684</td>\n",
       "      <td>Friday</td>\n",
       "      <td>UNITED</td>\n",
       "      <td>ORLANDO</td>\n",
       "      <td>East US</td>\n",
       "      <td>Hub</td>\n",
       "      <td>Gates 70-90</td>\n",
       "      <td>2018-12-31</td>\n",
       "      <td>92.0</td>\n",
       "      <td>Clean</td>\n",
       "      <td>Very safe</td>\n",
       "      <td>Very satisfied</td>\n",
       "    </tr>\n",
       "    <tr>\n",
       "      <th>2475</th>\n",
       "      <td>2549</td>\n",
       "      <td>Tuesday</td>\n",
       "      <td>JETBLUE</td>\n",
       "      <td>LONG BEACH</td>\n",
       "      <td>West US</td>\n",
       "      <td>Small</td>\n",
       "      <td>Gates 1-12</td>\n",
       "      <td>2018-12-31</td>\n",
       "      <td>95.0</td>\n",
       "      <td>Clean</td>\n",
       "      <td>Somewhat safe</td>\n",
       "      <td>Very satisfied</td>\n",
       "    </tr>\n",
       "    <tr>\n",
       "      <th>2476</th>\n",
       "      <td>2162</td>\n",
       "      <td>Saturday</td>\n",
       "      <td>CHINA EASTERN</td>\n",
       "      <td>QINGDAO</td>\n",
       "      <td>Asia</td>\n",
       "      <td>Large</td>\n",
       "      <td>Gates 1-12</td>\n",
       "      <td>2018-12-31</td>\n",
       "      <td>220.0</td>\n",
       "      <td>Clean</td>\n",
       "      <td>Very safe</td>\n",
       "      <td>Somewhat satsified</td>\n",
       "    </tr>\n",
       "  </tbody>\n",
       "</table>\n",
       "</div>"
      ],
      "text/plain": [
       "        id       day        airline   destination dest_region dest_size  \\\n",
       "2472  1475   Tuesday         ALASKA  NEW YORK-JFK     East US       Hub   \n",
       "2473  2222  Thursday      SOUTHWEST       PHOENIX     West US       Hub   \n",
       "2474  2684    Friday         UNITED       ORLANDO     East US       Hub   \n",
       "2475  2549   Tuesday        JETBLUE    LONG BEACH     West US     Small   \n",
       "2476  2162  Saturday  CHINA EASTERN       QINGDAO        Asia     Large   \n",
       "\n",
       "     boarding_area   dept_time  wait_min     cleanliness         safety  \\\n",
       "2472   Gates 50-59  2018-12-31     280.0  Somewhat clean        Neutral   \n",
       "2473   Gates 20-39  2018-12-31     165.0           Clean      Very safe   \n",
       "2474   Gates 70-90  2018-12-31      92.0           Clean      Very safe   \n",
       "2475    Gates 1-12  2018-12-31      95.0           Clean  Somewhat safe   \n",
       "2476    Gates 1-12  2018-12-31     220.0           Clean      Very safe   \n",
       "\n",
       "            satisfaction  \n",
       "2472  Somewhat satsified  \n",
       "2473      Very satisfied  \n",
       "2474      Very satisfied  \n",
       "2475      Very satisfied  \n",
       "2476  Somewhat satsified  "
      ]
     },
     "execution_count": 62,
     "metadata": {},
     "output_type": "execute_result"
    }
   ],
   "source": [
    "# Let's work on the 'dept_time' prior to working on 'day'\n",
    "airlines['dept_time'] = pd.to_datetime(airlines['dept_time']).dt.date\n",
    "airlines.tail()\n",
    "# The variable has changed to a date, but they are all still December 31 with no actual time element.\n",
    "# To proceed, I would ignore or delete it and discuss the issue with a Data Engineer."
   ]
  },
  {
   "cell_type": "markdown",
   "id": "5d49696e-ba26-4db4-a534-506a130cd1b3",
   "metadata": {},
   "source": [
    "### Working with categories\n",
    "\n",
    "Over the next few code blocks, we will look at the categorical variables. I will treat the 'day' column as a category. We will change them to categories, check for value inconsistencies, and change the case. If there are any inconsistencies, we will need to collapse them."
   ]
  },
  {
   "cell_type": "code",
   "execution_count": null,
   "id": "307e3659-8c5e-400f-ada2-0b34bdc9fbe5",
   "metadata": {},
   "outputs": [
    {
     "data": {
      "text/plain": [
       "SOMEWHAT CLEAN    1175\n",
       "CLEAN              885\n",
       "AVERAGE            389\n",
       "SOMEWHAT DIRTY      26\n",
       "DIRTY                2\n",
       "Name: cleanliness, dtype: int64"
      ]
     },
     "execution_count": 63,
     "metadata": {},
     "output_type": "execute_result"
    }
   ],
   "source": [
    "# Let's look at some categories\n",
    "airlines['cleanliness'] = airlines['cleanliness'].str.upper()\n",
    "\n",
    "cleanliness = airlines['cleanliness']\n",
    "\n",
    "cleanliness.value_counts()"
   ]
  },
  {
   "cell_type": "code",
   "execution_count": null,
   "id": "7680d291-246e-4300-8a22-f25472fa7aeb",
   "metadata": {},
   "outputs": [
    {
     "data": {
      "text/plain": [
       "VERY SAFE          1296\n",
       "SOMEWHAT SAFE       864\n",
       "NEUTRAL             303\n",
       "VERY UNSAFE           8\n",
       "SOMEWHAT UNSAFE       6\n",
       "Name: safety, dtype: int64"
      ]
     },
     "execution_count": 64,
     "metadata": {},
     "output_type": "execute_result"
    }
   ],
   "source": [
    "# Let's look at some categories\n",
    "airlines['safety'] = airlines['safety'].str.upper()\n",
    "safety = airlines['safety']\n",
    "\n",
    "safety.value_counts()"
   ]
  },
  {
   "cell_type": "code",
   "execution_count": null,
   "id": "80c4b403-1a10-42c0-a715-a2da0d26f1c9",
   "metadata": {},
   "outputs": [
    {
     "data": {
      "text/plain": [
       "SOMEWHAT SATSIFIED      1349\n",
       "VERY SATISFIED           596\n",
       "NEUTRAL                  486\n",
       "SOMEWHAT UNSATISFIED      42\n",
       "VERY UNSATISFIED           4\n",
       "Name: satisfaction, dtype: int64"
      ]
     },
     "execution_count": 65,
     "metadata": {},
     "output_type": "execute_result"
    }
   ],
   "source": [
    "# Let's look at some categories\n",
    "airlines['satisfaction'] = airlines['satisfaction'].str.upper()\n",
    "\n",
    "satisfaction = airlines['satisfaction']\n",
    "\n",
    "satisfaction.value_counts()"
   ]
  },
  {
   "cell_type": "code",
   "execution_count": null,
   "id": "09fed471-ad0d-4007-8e28-6f16c97e7f66",
   "metadata": {},
   "outputs": [
    {
     "data": {
      "text/plain": [
       "TUESDAY      535\n",
       "WEDNESDAY    518\n",
       "THURSDAY     488\n",
       "FRIDAY       368\n",
       "SUNDAY       267\n",
       "SATURDAY     210\n",
       "MONDAY        91\n",
       "Name: day, dtype: int64"
      ]
     },
     "execution_count": 66,
     "metadata": {},
     "output_type": "execute_result"
    }
   ],
   "source": [
    "# Let's look at some categories\n",
    "airlines['day'] = airlines['day'].str.upper()\n",
    "\n",
    "day = airlines['day']\n",
    "\n",
    "day.value_counts()"
   ]
  },
  {
   "cell_type": "code",
   "execution_count": null,
   "id": "8b80080d-9163-44b1-8178-359f2aa810e3",
   "metadata": {},
   "outputs": [
    {
     "data": {
      "text/plain": [
       "HUB       1550\n",
       "MEDIUM     600\n",
       "SMALL      200\n",
       "LARGE      127\n",
       "Name: dest_size, dtype: int64"
      ]
     },
     "execution_count": 67,
     "metadata": {},
     "output_type": "execute_result"
    }
   ],
   "source": [
    "# Let's look at some categories\n",
    "airlines['dest_size'] = airlines['dest_size'].str.upper()\n",
    "\n",
    "dest_size = airlines['dest_size']\n",
    "\n",
    "dest_size.value_counts()"
   ]
  },
  {
   "cell_type": "code",
   "execution_count": null,
   "id": "65f80966-4434-432c-b81b-985ec5656701",
   "metadata": {},
   "outputs": [
    {
     "name": "stdout",
     "output_type": "stream",
     "text": [
      "<class 'pandas.core.frame.DataFrame'>\n",
      "RangeIndex: 2477 entries, 0 to 2476\n",
      "Data columns (total 12 columns):\n",
      " #   Column         Non-Null Count  Dtype   \n",
      "---  ------         --------------  -----   \n",
      " 0   id             2477 non-null   int64   \n",
      " 1   day            2477 non-null   category\n",
      " 2   airline        2477 non-null   object  \n",
      " 3   destination    2477 non-null   object  \n",
      " 4   dest_region    2477 non-null   object  \n",
      " 5   dest_size      2477 non-null   category\n",
      " 6   boarding_area  2477 non-null   object  \n",
      " 7   dept_time      2477 non-null   object  \n",
      " 8   wait_min       2477 non-null   float64 \n",
      " 9   cleanliness    2477 non-null   category\n",
      " 10  safety         2477 non-null   category\n",
      " 11  satisfaction   2477 non-null   category\n",
      "dtypes: category(5), float64(1), int64(1), object(5)\n",
      "memory usage: 148.8+ KB\n"
     ]
    }
   ],
   "source": [
    "# There doesn't seem to be any inconsistencies with the following, so lets change them to categories.\n",
    "airlines['cleanliness'] = airlines['cleanliness'].astype('category')\n",
    "airlines['safety'] = airlines['safety'].astype('category')\n",
    "airlines['satisfaction'] = airlines['satisfaction'].astype('category')\n",
    "airlines['day'] = airlines['day'].astype('category')\n",
    "airlines['dest_size'] = airlines['dest_size'].astype('category')\n",
    "airlines.info()\n",
    "# Success, I will not factorize them at this time."
   ]
  },
  {
   "cell_type": "code",
   "execution_count": null,
   "id": "d0b3b555-32c9-4d46-bfe4-bf2aff88c2b5",
   "metadata": {},
   "outputs": [
    {
     "data": {
      "text/plain": [
       "WEST US                  864\n",
       "EAST US                  436\n",
       "EUROPE                   272\n",
       "MIDWEST US               251\n",
       "ASIA                     226\n",
       "CANADA/MEXICO            198\n",
       "EUR                       79\n",
       "MIDDLE EAST               69\n",
       "AUSTRALIA/NEW ZEALAND     60\n",
       "CENTRAL/SOUTH AMERICA     22\n",
       "Name: dest_region, dtype: int64"
      ]
     },
     "execution_count": 69,
     "metadata": {},
     "output_type": "execute_result"
    }
   ],
   "source": [
    "# Let's look at 'dest_region'\n",
    "airlines['dest_region'] = airlines['dest_region'].str.upper()\n",
    "\n",
    "dest_region = airlines['dest_region']\n",
    "dest_region.value_counts()"
   ]
  },
  {
   "cell_type": "code",
   "execution_count": null,
   "id": "a8f5cccf-93a9-4711-92d4-85ce9eab25a8",
   "metadata": {},
   "outputs": [],
   "source": [
    "# 'dest_region' has a membership constraint\n",
    "# Three solution: Dropping Data, Remapping, and [Inferring <- will not be covered]\n",
    "# There is a EUROPE and EUR category, you could drop the inconsistent values; however I never recommend that\n",
    "# If you wanted to drop, this code will do that, but it is commented out\n",
    "\n",
    "#Dropping Example\n",
    "\n",
    "# Step 1: Create a dataframe with correct categories\n",
    "categories = pd.DataFrame()\n",
    "categories['region_cat'] = ['WEST US', 'EAST US', 'EUROPE', 'MIDWEST US', 'ASIA', 'CANADA/MEXICO', 'MIDDLE EAST', 'AUSTRALIA/NEW ZEALAND', 'CENTRAL/SOUTH AMERICA']\n",
    "# Step 2: Define the difference\n",
    "inconsistent_cat = set(airlines['dest_region']).difference(categories['region_cat'])\n",
    "# print(inconsistent_cat) # This will show you the membership constraint\n",
    "# Step 3: Subset inconsistent rows\n",
    "inconsistent_rows = airlines['dest_region'].isin(inconsistent_cat)\n",
    "# airlines[inconsistent_rows] # This will print the inconsistent rows\n",
    "# Step 4: Drop inconsistent rows\n",
    "# airlines = airlines[~inconsistent_rows]\n",
    "# airlines.info()\n",
    "\n",
    "# After dropping, you will need to reset the index."
   ]
  },
  {
   "cell_type": "code",
   "execution_count": null,
   "id": "1672809a-90bc-4187-b711-28e7f649be35",
   "metadata": {},
   "outputs": [],
   "source": [
    "# Remapping Example\n",
    "airlines['dest_region'] = airlines['dest_region'].replace(to_replace=['EUR'], value='EUROPE')\n",
    "airlines['dest_region'].value_counts()\n",
    "airlines['dest_region'] = airlines['dest_region'].astype('category')"
   ]
  },
  {
   "cell_type": "code",
   "execution_count": null,
   "id": "de7966cc-a56b-4b65-ae73-954bef46c78e",
   "metadata": {},
   "outputs": [
    {
     "data": {
      "text/plain": [
       "UNITED                 526\n",
       "ALASKA                 315\n",
       "SOUTHWEST              184\n",
       "AMERICAN               175\n",
       "DELTA                  170\n",
       "UNITED INTL            155\n",
       "JETBLUE                144\n",
       "AIR CANADA             133\n",
       "AIR FRANCE/KLM         120\n",
       "CATHAY PACIFIC          81\n",
       "LUFTHANSA               64\n",
       "FRONTIER                41\n",
       "EMIRATES                39\n",
       "WOW                     38\n",
       "VIRGIN ATLANTIC         32\n",
       "TURKISH AIRLINES        30\n",
       "QANTAS                  28\n",
       "AIR NEW ZEALAND         21\n",
       "BRITISH AIRWAYS         21\n",
       "AER LINGUS              18\n",
       "INTERJET                18\n",
       "COPA                    16\n",
       "SINGAPORE AIRLINES      16\n",
       "PHILIPPINE AIRLINES     14\n",
       "CHINA EASTERN           13\n",
       "KOREAN AIR              12\n",
       "HAWAIIAN AIR            12\n",
       "AEROMEXICO              11\n",
       "EVA AIR                 10\n",
       "AIR CHINA                8\n",
       "AVIANCA                  6\n",
       "CHINA SOUTHERN           4\n",
       "ANA ALL NIPPON           2\n",
       "Name: airline, dtype: int64"
      ]
     },
     "execution_count": 72,
     "metadata": {},
     "output_type": "execute_result"
    }
   ],
   "source": [
    "# Let's check out 'airline'\n",
    "airlines['airline'] = airlines['airline'].str.upper()\n",
    "\n",
    "airline = airlines['airline']\n",
    "airline.value_counts()\n",
    "\n",
    "# A potential issue is with UNITED and UNITED INTL, but I will leave it alone. If you want to change it, follow the remapping example."
   ]
  },
  {
   "cell_type": "code",
   "execution_count": null,
   "id": "17dffdb8-d2c5-4ac6-9f0e-6f71e835524e",
   "metadata": {},
   "outputs": [
    {
     "name": "stdout",
     "output_type": "stream",
     "text": [
      "LOS ANGELES        185\n",
      "PARIS-DE GAULLE    126\n",
      "DENVER              96\n",
      "HONG KONG           95\n",
      "LONDON HEATHROW     91\n",
      "                  ... \n",
      "WUHAN                4\n",
      "ONTARIO (CALIF)      3\n",
      "QINGDAO              3\n",
      "NEW ORLEANS          3\n",
      "EUGENE               1\n",
      "Name: destination, Length: 72, dtype: int64\n"
     ]
    }
   ],
   "source": [
    "# Let's check out 'destination'\n",
    "airlines['destination'] = airlines['destination'].str.upper()\n",
    "\n",
    "destination = airlines['destination']\n",
    "print(destination.value_counts())\n",
    "\n",
    "# There are 72 different values, this is not impossible but we will check for duplicates next."
   ]
  },
  {
   "cell_type": "code",
   "execution_count": null,
   "id": "20767c97-05ca-42ae-8851-9bdb152e5a64",
   "metadata": {},
   "outputs": [
    {
     "data": {
      "application/com.datacamp.data-table.v1+json": {
       "is_truncated": false,
       "table": {
        "data": [],
        "schema": {
         "fields": [
          {
           "name": "index",
           "type": "integer"
          },
          {
           "name": "id",
           "type": "integer"
          },
          {
           "constraints": {
            "enum": [
             "FRIDAY",
             "MONDAY",
             "SATURDAY",
             "SUNDAY",
             "THURSDAY",
             "TUESDAY",
             "WEDNESDAY"
            ]
           },
           "name": "day",
           "ordered": false,
           "type": "any"
          },
          {
           "name": "airline",
           "type": "string"
          },
          {
           "name": "destination",
           "type": "string"
          },
          {
           "constraints": {
            "enum": [
             "ASIA",
             "AUSTRALIA/NEW ZEALAND",
             "CANADA/MEXICO",
             "CENTRAL/SOUTH AMERICA",
             "EAST US",
             "EUROPE",
             "MIDDLE EAST",
             "MIDWEST US",
             "WEST US"
            ]
           },
           "name": "dest_region",
           "ordered": false,
           "type": "any"
          },
          {
           "constraints": {
            "enum": [
             "HUB",
             "LARGE",
             "MEDIUM",
             "SMALL"
            ]
           },
           "name": "dest_size",
           "ordered": false,
           "type": "any"
          },
          {
           "name": "boarding_area",
           "type": "string"
          },
          {
           "name": "dept_time",
           "type": "string"
          },
          {
           "name": "wait_min",
           "type": "number"
          },
          {
           "constraints": {
            "enum": [
             "AVERAGE",
             "CLEAN",
             "DIRTY",
             "SOMEWHAT CLEAN",
             "SOMEWHAT DIRTY"
            ]
           },
           "name": "cleanliness",
           "ordered": false,
           "type": "any"
          },
          {
           "constraints": {
            "enum": [
             "NEUTRAL",
             "SOMEWHAT SAFE",
             "SOMEWHAT UNSAFE",
             "VERY SAFE",
             "VERY UNSAFE"
            ]
           },
           "name": "safety",
           "ordered": false,
           "type": "any"
          },
          {
           "constraints": {
            "enum": [
             "NEUTRAL",
             "SOMEWHAT SATSIFIED",
             "SOMEWHAT UNSATISFIED",
             "VERY SATISFIED",
             "VERY UNSATISFIED"
            ]
           },
           "name": "satisfaction",
           "ordered": false,
           "type": "any"
          }
         ],
         "pandas_version": "0.20.0",
         "primaryKey": [
          "index"
         ]
        }
       },
       "total_rows": 0
      },
      "text/html": [
       "<div>\n",
       "<style scoped>\n",
       "    .dataframe tbody tr th:only-of-type {\n",
       "        vertical-align: middle;\n",
       "    }\n",
       "\n",
       "    .dataframe tbody tr th {\n",
       "        vertical-align: top;\n",
       "    }\n",
       "\n",
       "    .dataframe thead th {\n",
       "        text-align: right;\n",
       "    }\n",
       "</style>\n",
       "<table border=\"1\" class=\"dataframe\">\n",
       "  <thead>\n",
       "    <tr style=\"text-align: right;\">\n",
       "      <th></th>\n",
       "      <th>id</th>\n",
       "      <th>day</th>\n",
       "      <th>airline</th>\n",
       "      <th>destination</th>\n",
       "      <th>dest_region</th>\n",
       "      <th>dest_size</th>\n",
       "      <th>boarding_area</th>\n",
       "      <th>dept_time</th>\n",
       "      <th>wait_min</th>\n",
       "      <th>cleanliness</th>\n",
       "      <th>safety</th>\n",
       "      <th>satisfaction</th>\n",
       "    </tr>\n",
       "  </thead>\n",
       "  <tbody>\n",
       "  </tbody>\n",
       "</table>\n",
       "</div>"
      ],
      "text/plain": [
       "Empty DataFrame\n",
       "Columns: [id, day, airline, destination, dest_region, dest_size, boarding_area, dept_time, wait_min, cleanliness, safety, satisfaction]\n",
       "Index: []"
      ]
     },
     "execution_count": 74,
     "metadata": {},
     "output_type": "execute_result"
    }
   ],
   "source": [
    "# Duplicate check\n",
    "columns_to_check = ['id', 'day', 'airline']\n",
    "\n",
    "duplicates = airlines.duplicated(subset = columns_to_check, keep = False)\n",
    "airlines[duplicates]\n",
    "\n",
    "# There does not seem to be any duplicates"
   ]
  },
  {
   "cell_type": "code",
   "execution_count": null,
   "id": "01cb18dc-476c-4e32-b1f5-d5d89600f707",
   "metadata": {},
   "outputs": [
    {
     "data": {
      "image/png": "[encoded data removed]",
      "text/plain": [
       "<Figure size 432x288 with 1 Axes>"
      ]
     },
     "metadata": {
      "needs_background": "light"
     },
     "output_type": "display_data"
    }
   ],
   "source": [
    "# Time to tackle the outliers in 'wait_min'\n",
    "\n",
    "#Step 1: Plot the data\n",
    "plt.scatter(x = 'day', y = 'wait_min', data = airlines)\n",
    "plt.show()"
   ]
  },
  {
   "cell_type": "code",
   "execution_count": null,
   "id": "1a41b510-d6ec-403c-8294-5c4e40c565db",
   "metadata": {},
   "outputs": [
    {
     "data": {
      "text/plain": [
       "count    2477.000000\n",
       "mean      166.084376\n",
       "std       107.643625\n",
       "min        15.000000\n",
       "25%       105.000000\n",
       "50%       145.000000\n",
       "75%       185.000000\n",
       "max      1365.000000\n",
       "Name: wait_min, dtype: float64"
      ]
     },
     "execution_count": 76,
     "metadata": {},
     "output_type": "execute_result"
    }
   ],
   "source": [
    "# Step 2: Get the statistical summary\n",
    "airlines['wait_min'].describe()"
   ]
  },
  {
   "cell_type": "code",
   "execution_count": null,
   "id": "c8166429-df30-44da-80bb-41050f6540e9",
   "metadata": {},
   "outputs": [
    {
     "data": {
      "image/png": "[encoded data removed]",
      "text/plain": [
       "<Figure size 432x288 with 1 Axes>"
      ]
     },
     "metadata": {
      "needs_background": "light"
     },
     "output_type": "display_data"
    }
   ],
   "source": [
    "#Step 3: Replace outliers with the 95 percentile\n",
    "\n",
    "wait_95 = airlines['wait_min'].quantile(0.95)\n",
    "airlines.loc[airlines['wait_min'] > wait_95, 'wait_min'] = wait_95\n",
    "\n",
    "#Step 4: Replot\n",
    "plt.scatter(x = 'day', y = 'wait_min', data = airlines)\n",
    "plt.show()\n",
    "\n",
    "# This was just an example to show a way of how to deal with outliers. Prior to do that, I would conduct a fact finding mission to make sure some of those extreme outliers would actual instances. We all have had long delays for flights."
   ]
  },
  {
   "cell_type": "code",
   "execution_count": null,
   "id": "a3597402-bac3-47e8-abf8-a1dd4379e3c7",
   "metadata": {},
   "outputs": [
    {
     "data": {
      "text/plain": [
       "NO     1551\n",
       "YES     926\n",
       "Name: international, dtype: int64"
      ]
     },
     "execution_count": 82,
     "metadata": {},
     "output_type": "execute_result"
    }
   ],
   "source": [
    "# Last item, we may want a column indicating if the flight is domestic or international.\n",
    "\n",
    "dest_us = ['WEST US', 'EAST US', 'MIDWEST US']\n",
    "airlines['international'] = np.where(airlines['dest_region'].isin(dest_us), 'NO', 'YES')\n",
    "airlines['international'].value_counts()"
   ]
  },
  {
   "cell_type": "markdown",
   "id": "798eae12-6264-4268-ab23-c1be59902112",
   "metadata": {},
   "source": [
    "### Closing Remarks\n",
    "In this exercise, we looked at an airline dataset. We reset the index. We worked with a date column; however, the data was faulty and will need to address this issue with the data owner or data engineer feeding you the data. We verified catergories and changed those strings to categories. We looked category inconsistencies and remapped the inconsistent values. We looked data that was potentially out of range and reset the outliers to be within the statistical range. Finally, we created a new column based on conditions in another column. Once again, prior to resetting outliers or dropping values, I would fact find and if those outliers are true instances, and limited to 1 or 2 instances, maybe dropping the values would be better. I also provided code on how to drop inconsistent values.\n",
    "\n",
    "I hope you enjoyed this tutorial. Send me a like or share it if this helped you in any way."
   ]
  }
 ],
 "metadata": {
  "colab": {
   "name": "Welcome to DataCamp Workspaces.ipynb",
   "provenance": []
  },
  "kernelspec": {
   "display_name": "Python 3 (ipykernel)",
   "language": "python",
   "name": "python3"
  },
  "language_info": {
   "codemirror_mode": {
    "name": "ipython",
    "version": 3
   },
   "file_extension": ".py",
   "mimetype": "text/x-python",
   "name": "python",
   "nbconvert_exporter": "python",
   "pygments_lexer": "ipython3",
   "version": "3.8.10"
  }
 },
 "nbformat": 4,
 "nbformat_minor": 5
}
